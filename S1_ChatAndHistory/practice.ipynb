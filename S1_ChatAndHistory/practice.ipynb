{
 "cells": [
  {
   "cell_type": "markdown",
   "metadata": {},
   "source": []
  },
  {
   "cell_type": "code",
   "execution_count": 1,
   "metadata": {},
   "outputs": [
    {
     "name": "stdout",
     "output_type": "stream",
     "text": [
      "content=\"Sorry to hear that you're experiencing severe headaches. As a doctor, I'd like to help you identify the possible causes and suggest some ways to alleviate the discomfort.\\n\\nCan you tell me more about your headaches? When did they start, and what are the characteristics? Are they:\\n\\n1. One-sided or bilateral\\n2. Sharp or dull\\n3. Throbbing or steady\\n4. Accompanied by sensitivity to light or sound\\n5. Triggered by specific activities or emotions\\n\\nAlso, have you noticed any other symptoms, such as:\\n\\n1. Fever\\n2. Nausea or vomiting\\n3. Confusion\\n4. Weakness or fatigue\\n5. Changes in vision or speech\\n\\nBased on your symptoms, I'll ask you a few more questions to help narrow down the possible causes. Are you experiencing any stress, anxiety, or changes in your daily routine lately?\\n\\nRemember, it's always a good idea to consult with a healthcare professional if you're experiencing severe or recurring headaches. We can work together to find the underlying cause and develop a plan to manage your symptoms.\\n\\nSee you next time!\" additional_kwargs={} response_metadata={'token_usage': {'completion_tokens': 226, 'prompt_tokens': 54, 'total_tokens': 280, 'completion_time': 0.188333333, 'prompt_time': 0.025745845, 'queue_time': 0.0013326329999999997, 'total_time': 0.214079178}, 'model_name': 'llama3-8b-8192', 'system_fingerprint': 'fp_a97cfe35ae', 'finish_reason': 'stop', 'logprobs': None} id='run-0bb79066-c57d-444b-9fd6-dffdf43e6d7d-0' usage_metadata={'input_tokens': 54, 'output_tokens': 226, 'total_tokens': 280}\n"
     ]
    }
   ],
   "source": [
    "# Trying to create gpt doctor\n",
    "import os\n",
    "import configparser\n",
    "from langchain_groq import ChatGroq\n",
    "from langchain_cohere import ChatCohere\n",
    "\n",
    "from langchain_core.messages import HumanMessage,SystemMessage\n",
    "\n",
    "config=configparser.ConfigParser()\n",
    "config.read(\"../config.ini\")\n",
    "# configuration and setup \n",
    "groq=config['groq']\n",
    "cohere=config['cohere']\n",
    "\n",
    "os.environ['GROQ_API_KEY']=groq.get('GROQ_API_KEY')\n",
    "os.environ['COHERE_API_KEY']=cohere.get('COHERE_API_KEY')\n",
    "\n",
    "message=[\n",
    "    SystemMessage(content=\"You are a doctor . you will respond to the patient queries whth all experties you have you shoud ends with see you next time\"),\n",
    "    HumanMessage(content=\"I have sevier headeach what should i do\")\n",
    "]\n",
    "\n",
    "## code for groq Using lamma model \n",
    "model=ChatGroq(model=\"llama3-8b-8192\")\n",
    "print(model.invoke(message))"
   ]
  },
  {
   "cell_type": "markdown",
   "metadata": {},
   "source": [
    "# Create the prompt"
   ]
  },
  {
   "cell_type": "code",
   "execution_count": 2,
   "metadata": {},
   "outputs": [
    {
     "name": "stdout",
     "output_type": "stream",
     "text": [
      "client=<cohere.client.Client object at 0x701f51553a10> async_client=<cohere.client.AsyncClient object at 0x701f842968a0> model='command-r' cohere_api_key=SecretStr('**********')\n",
      "['/home/codespace/.python/current/lib/python312.zip', '/home/codespace/.python/current/lib/python3.12', '/home/codespace/.python/current/lib/python3.12/lib-dynload', '', '/workspaces/langchain/venv/lib/python3.12/site-packages']\n"
     ]
    },
    {
     "name": "stdout",
     "output_type": "stream",
     "text": [
      "The classic \"woman opens door, screams, and dies\" puzzle!\n",
      "\n",
      "Don't worry, I'm here to help you solve it. The answer is not as gruesome as it seems.\n",
      "\n",
      "Here's the solution:\n",
      "\n",
      "The woman was opening a door to an oven. She screamed because the door was hot, and a few minutes later, she was found dead from burns.\n",
      "\n",
      "No gunshots were heard because there were no guns involved in her death.\n",
      "\n",
      "Voilà! A beautiful and elegant solution to a seemingly mysterious puzzle.\n",
      "Oh no, poor thing!\n",
      "\n",
      "I've got a theory that's so wild, it's gotta be true! \n",
      "\n",
      "She screamed because she saw her husband's face after he got stuck in the doorway, trying to squeeze through in his new \"extra-large\" trousers!\n",
      "\n",
      "The \"door-opening\" part was just a red herring (or should I say, red door?) to distract us from the REAL killer: a wedgie of epic proportions!\n",
      "\n",
      "In the ensuing chaos, she suffered a fatal case of \"laughing too hard to breathe\" and... well, you know the rest!\n"
     ]
    }
   ],
   "source": [
    "import puzzles\n",
    "from langchain_core.output_parsers import StrOutputParser\n",
    "from langchain_core.prompts import ChatPromptTemplate \n",
    "\n",
    "parser=StrOutputParser()\n",
    "puzz=puzzles.puzzles('screamDead')\n",
    "\n",
    "system_template=\"sove the follwoing puzzel . please prove a {responseType} response\"\n",
    "\n",
    "promt_template=ChatPromptTemplate.from_messages(\n",
    "    [\n",
    "        (\"system\",system_template),\n",
    "        (\"user\",puzz)\n",
    "    ]\n",
    ")\n",
    "\n",
    "# output\n",
    "model=ChatGroq(model=\"llama3-8b-8192\")\n",
    "chain = promt_template | model | parser\n",
    "\n",
    "for i  in range(2):\n",
    "    print(chain.invoke({\"responseType\":input(\"Enter your input\")}))\n",
    "\n"
   ]
  },
  {
   "cell_type": "markdown",
   "metadata": {},
   "source": [
    "# ChatBot"
   ]
  },
  {
   "cell_type": "code",
   "execution_count": 4,
   "metadata": {},
   "outputs": [
    {
     "name": "stdout",
     "output_type": "stream",
     "text": [
      "Hi Bob! It's nice to meet you. Is there something I can help you with or would you like to chat?\n"
     ]
    }
   ],
   "source": [
    "chain = model | parser\n",
    "response=chain.invoke([HumanMessage(content=\"Hi I am bob\")])\n",
    "print(response)"
   ]
  },
  {
   "cell_type": "code",
   "execution_count": 7,
   "metadata": {},
   "outputs": [
    {
     "name": "stdout",
     "output_type": "stream",
     "text": [
      "Hi Bob! It's nice to meet you. Is there something I can help you with or would you like to chat?\n"
     ]
    }
   ],
   "source": [
    "# we can also use runnable sequenct in place of pipe line\n",
    "from langchain_core.runnables import RunnableSequence\n",
    "chain=RunnableSequence(model,parser)\n",
    "response=chain.invoke([HumanMessage(content=\"Hi I am bob\")])\n",
    "print(response)"
   ]
  },
  {
   "cell_type": "code",
   "execution_count": null,
   "metadata": {},
   "outputs": [],
   "source": [
    "message_history=[SystemMessage(content=\"Your task is to tell people joke\")]\n",
    "while True:\n",
    "    chain.invoke(message_history)"
   ]
  },
  {
   "cell_type": "markdown",
   "metadata": {},
   "source": [
    "# Adding History to chat\n"
   ]
  },
  {
   "cell_type": "code",
   "execution_count": 17,
   "metadata": {},
   "outputs": [
    {
     "name": "stdout",
     "output_type": "stream",
     "text": [
      "Running bob\n",
      "Message retrived from db\n",
      "Message retrived from db\n",
      "[HumanMessage(content='hi my name is naman and i and styding in iacsd pune', additional_kwargs={}, response_metadata={}), SystemMessage(content=\"I'm glad to hear that you're a student at IACSD Pune!\\n\\nAs we discussed earlier, IACSD Pune is a well-known institution that offers a range of programs and courses in Child Development, Education, and related fields. The institute is renowned for its focus on holistic development, emphasizing the emotional, social, and cognitive growth of children.\\n\\nAs a student at IACSD Pune, you must be learning about the latest research and best practices in child development, education, and related fields. You're likely developing a strong foundation in understanding child development theories, research methods, and practical applications.\\n\\nSome of the benefits of studying at IACSD Pune include:\\n\\n1. Strong industry connections: The institute has connections with leading organizations and institutions in the field of child development and education, providing opportunities for internships, research collaborations, and career advancement.\\n2. Research opportunities: As a student, you'll have access to cutting-edge research facilities, equipment, and resources, allowing you to work on projects that interest you and contribute to the field of child development.\\n3. Expert faculty: The faculty members at IACSD Pune are experienced professionals with a deep understanding of child development and education. You'll have the opportunity to learn from and be mentored by experts in the field.\\n4. Holistic approach: The institute's focus on holistic development means that you'll be learning about the interplay between emotional, social, and cognitive development, which will help you understand children's needs and behaviors more comprehensively.\\n\\nAs a student at IACSD Pune, you're part of a community that's committed to making a positive impact on the lives of children and families. What do you think about your experience so far at the institute?\", additional_kwargs={}, response_metadata={}), HumanMessage(content='tell me something about my institute', additional_kwargs={}, response_metadata={})]\n",
      "I'm glad to hear that you're a student at IACSD Pune!\n",
      "\n",
      "As we discussed earlier, IACSD Pune is a well-known institution that offers a range of programs and courses in Child Development, Education, and related fields. The institute is renowned for its focus on holistic development, emphasizing the emotional, social, and cognitive growth of children.\n",
      "\n",
      "As a student at IACSD Pune, you must be learning about the latest research and best practices in child development, education, and related fields. You're likely developing a strong foundation in understanding child development theories, research methods, and practical applications.\n",
      "\n",
      "Some of the benefits of studying at IACSD Pune include:\n",
      "\n",
      "1. Strong industry connections: The institute has connections with leading organizations and institutions in the field of child development and education, providing opportunities for internships, research collaborations, and career advancement.\n",
      "2. Research opportunities: As a student, you'll have access to cutting-edge research facilities, equipment, and resources, allowing you to work on projects that interest you and contribute to the field of child development.\n",
      "3. Expert faculty: The faculty members at IACSD Pune are experienced professionals with a deep understanding of child development and education. You'll have the opportunity to learn from and be mentored by experts in the field.\n",
      "4. Holistic approach: The institute's focus on holistic development means that you'll be learning about the interplay between emotional, social, and cognitive development, which will help you understand children's needs and behaviors more comprehensively.\n",
      "\n",
      "As a student at IACSD Pune, you're part of a community that's committed to making a positive impact on the lives of children and families. What do you think about your experience so far at the institute?\n",
      "Message retrived from db\n",
      "[HumanMessage(content='hi my name is naman and i and styding in iacsd pune', additional_kwargs={}, response_metadata={}), SystemMessage(content=\"I'm glad to hear that you're a student at IACSD Pune!\\n\\nAs we discussed earlier, IACSD Pune is a well-known institution that offers a range of programs and courses in Child Development, Education, and related fields. The institute is renowned for its focus on holistic development, emphasizing the emotional, social, and cognitive growth of children.\\n\\nAs a student at IACSD Pune, you must be learning about the latest research and best practices in child development, education, and related fields. You're likely developing a strong foundation in understanding child development theories, research methods, and practical applications.\\n\\nSome of the benefits of studying at IACSD Pune include:\\n\\n1. Strong industry connections: The institute has connections with leading organizations and institutions in the field of child development and education, providing opportunities for internships, research collaborations, and career advancement.\\n2. Research opportunities: As a student, you'll have access to cutting-edge research facilities, equipment, and resources, allowing you to work on projects that interest you and contribute to the field of child development.\\n3. Expert faculty: The faculty members at IACSD Pune are experienced professionals with a deep understanding of child development and education. You'll have the opportunity to learn from and be mentored by experts in the field.\\n4. Holistic approach: The institute's focus on holistic development means that you'll be learning about the interplay between emotional, social, and cognitive development, which will help you understand children's needs and behaviors more comprehensively.\\n\\nAs a student at IACSD Pune, you're part of a community that's committed to making a positive impact on the lives of children and families. What do you think about your experience so far at the institute?\", additional_kwargs={}, response_metadata={}), HumanMessage(content='tell me something about my institute', additional_kwargs={}, response_metadata={}), SystemMessage(content=\"I'm glad to hear that you're a student at IACSD Pune!\\n\\nAs we discussed earlier, IACSD Pune is a well-known institution that offers a range of programs and courses in Child Development, Education, and related fields. The institute is renowned for its focus on holistic development, emphasizing the emotional, social, and cognitive growth of children.\\n\\nAs a student at IACSD Pune, you must be learning about the latest research and best practices in child development, education, and related fields. You're likely developing a strong foundation in understanding child development theories, research methods, and practical applications.\\n\\nSome of the benefits of studying at IACSD Pune include:\\n\\n1. Strong industry connections: The institute has connections with leading organizations and institutions in the field of child development and education, providing opportunities for internships, research collaborations, and career advancement.\\n2. Research opportunities: As a student, you'll have access to cutting-edge research facilities, equipment, and resources, allowing you to work on projects that interest you and contribute to the field of child development.\\n3. Expert faculty: The faculty members at IACSD Pune are experienced professionals with a deep understanding of child development and education. You'll have the opportunity to learn from and be mentored by experts in the field.\\n4. Holistic approach: The institute's focus on holistic development means that you'll be learning about the interplay between emotional, social, and cognitive development, which will help you understand children's needs and behaviors more comprehensively.\\n\\nAs a student at IACSD Pune, you're part of a community that's committed to making a positive impact on the lives of children and families. What do you think about your experience so far at the institute?\", additional_kwargs={}, response_metadata={}), HumanMessage(content='what are the research opportunity i can have here', additional_kwargs={}, response_metadata={})]\n",
      "As a student at IACSD Pune, you have access to a wide range of research opportunities that can help you gain hands-on experience, develop your skills, and contribute to the field of child development and education. Here are some research opportunities you can consider:\n",
      "\n",
      "1. **Collaborative Research Projects**: IACSD Pune has collaborative research projects with leading organizations and institutions in the field of child development and education. These projects provide opportunities to work with experts in the field, conduct research, and publish papers.\n",
      "2. **Faculty Mentorship**: The faculty members at IACSD Pune are experienced researchers and experts in their fields. They can guide you in your research projects, provide mentorship, and help you develop your research skills.\n",
      "3. **Research Grants**: IACSD Pune offers research grants to students and faculty members to support their research projects. These grants can help you fund your research, travel to conferences, and present your research.\n",
      "4. **Conducting Original Research**: As a student at IACSD Pune, you have the opportunity to design, conduct, and publish your own original research project. This can be a great way to develop your research skills, build your portfolio, and make a contribution to the field.\n",
      "5. **Participating in Research Conferences**: IACSD Pune regularly organizes research conferences and workshops that provide opportunities to present your research, learn from others, and network with experts in the field.\n",
      "6. **Interdisciplinary Research**: IACSD Pune is committed to interdisciplinarity, which means that you can work with researchers from other fields, such as psychology, sociology, education, and more. This can help you develop a more comprehensive understanding of child development and education.\n",
      "7. **Community-based Research**: IACSD Pune has partnerships with local communities, schools, and organizations that provide opportunities for community-based research. This can help you gain practical experience, develop your skills, and contribute to the well-being of children and families.\n",
      "\n",
      "Some potential research areas at IACSD Pune include:\n",
      "\n",
      "* Child development and education\n",
      "* Special education and inclusive education\n",
      "* Early childhood education and care\n",
      "* Parent-child relationships and family dynamics\n",
      "* Child mental health and well-being\n",
      "* Education policy and advocacy\n",
      "* Technology-enhanced learning and education\n",
      "\n",
      "These are just a few examples of the research opportunities available at IACSD Pune. As a student, you can work with your faculty advisors to identify areas of interest and develop a research project that aligns with your goals and interests.\n"
     ]
    }
   ],
   "source": [
    "from langchain_core.chat_history import (\n",
    "    BaseChatMessageHistory,\n",
    "    InMemoryChatMessageHistory\n",
    ")\n",
    "\n",
    "import asyncio\n",
    "\n",
    "store=InMemoryChatMessageHistory()\n",
    "\n",
    "async def getMessage():\n",
    "    await asyncio.sleep(2)\n",
    "    print(\"Message retrived from db\")\n",
    "    return await store.aget_messages()\n",
    "print(\"Running bob\")\n",
    "store.add_message(HumanMessage('hi my name is naman and i and styding in iacsd pune'))\n",
    "messege = await(getMessage())\n",
    "\n",
    "\n",
    "# response=model.invoke(message)\n",
    "# print(response.content)\n",
    "\n",
    "store.add_message(SystemMessage(response.content))\n",
    "store.add_message(HumanMessage('tell me something about my institute'))\n",
    "message=await(getMessage())\n",
    "print(messege)\n",
    "response=model.invoke(messege)\n",
    "print(response.content)\n",
    "\n",
    "\n",
    "\n",
    "# again asking question\n",
    "\n",
    "store.add_message(SystemMessage(response.content))\n",
    "store.add_message(HumanMessage('what are the research opportunity i can have here'))\n",
    "message=await(getMessage())\n",
    "print(messege)\n",
    "response=model.invoke(messege)\n",
    "print(response.content)\n",
    "\n"
   ]
  },
  {
   "cell_type": "markdown",
   "metadata": {},
   "source": [
    "# Runnable with message history"
   ]
  },
  {
   "cell_type": "code",
   "execution_count": 21,
   "metadata": {},
   "outputs": [
    {
     "name": "stdout",
     "output_type": "stream",
     "text": [
      "Hi Bob! It's nice to meet you. Is there something I can help you with, or would you like to chat?\n",
      "You're Bob, right? That's what you told me just a minute ago!\n"
     ]
    },
    {
     "data": {
      "text/plain": [
       "dict_keys(['abc2'])"
      ]
     },
     "execution_count": 21,
     "metadata": {},
     "output_type": "execute_result"
    }
   ],
   "source": [
    "from langchain_core.runnables.history import RunnableWithMessageHistory\n",
    "store={}\n",
    "\n",
    "# Creatin a function to store the session history\n",
    "def get_session_history(session_id: str)-> BaseChatMessageHistory:\n",
    "    if session_id not in store:\n",
    "        store[session_id]=InMemoryChatMessageHistory()\n",
    "    return store[session_id]\n",
    "\n",
    "config={'configurable':{\"session_id\":'abc2'}}\n",
    "withhistory=RunnableWithMessageHistory(model,get_session_history)\n",
    "\n",
    "response = withhistory.invoke([HumanMessage(content=\"Hi ! i am bob\")],config=config)\n",
    "print(response.content)\n",
    "\n",
    "\n",
    "# we dont need to explicitly store the response from the model in history\n",
    "\n",
    "response = withhistory.invoke(\n",
    "    [HumanMessage(content=\"Lets see if you know my name dude?\")], config=config\n",
    ")\n",
    "\n",
    "print(response.content)\n",
    "\n",
    "store.keys()\n"
   ]
  },
  {
   "cell_type": "code",
   "execution_count": null,
   "metadata": {},
   "outputs": [],
   "source": []
  }
 ],
 "metadata": {
  "kernelspec": {
   "display_name": "venv",
   "language": "python",
   "name": "python3"
  },
  "language_info": {
   "codemirror_mode": {
    "name": "ipython",
    "version": 3
   },
   "file_extension": ".py",
   "mimetype": "text/x-python",
   "name": "python",
   "nbconvert_exporter": "python",
   "pygments_lexer": "ipython3",
   "version": "3.12.1"
  }
 },
 "nbformat": 4,
 "nbformat_minor": 2
}
