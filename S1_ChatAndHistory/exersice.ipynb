{
 "cells": [
  {
   "cell_type": "markdown",
   "metadata": {},
   "source": [
    "# Required modules"
   ]
  },
  {
   "cell_type": "code",
   "execution_count": 1,
   "metadata": {},
   "outputs": [],
   "source": [
    "import random as rd\n",
    "import os\n",
    "import configparser\n",
    "from langchain_groq import ChatGroq\n",
    "from langchain_cohere import ChatCohere\n",
    "from langchain_core.messages import HumanMessage, SystemMessage\n",
    "from langchain_core.chat_history import BaseChatMessageHistory, InMemoryChatMessageHistory\n",
    "from langchain_core.runnables.history import RunnableWithMessageHistory"
   ]
  },
  {
   "cell_type": "markdown",
   "metadata": {},
   "source": [
    "### Define functions to pick random elements"
   ]
  },
  {
   "cell_type": "code",
   "execution_count": 2,
   "metadata": {},
   "outputs": [],
   "source": [
    "\n",
    "def actor_picker():\n",
    "    actors = [\"Aamir Khan\", \"Akshay Kumar\", \"Ajay Devgn\", \"Amjad Khan\", \"Amitabh Bachchan\"]\n",
    "    return rd.choice(actors)\n",
    "\n",
    "def location_picker():\n",
    "    locations = [\"Jaipur\", \"Varanasi\", \"Manali\", \"Goa\", \"Kochi\"]\n",
    "    return rd.choice(locations)\n",
    "\n",
    "def theme_picker():\n",
    "    themes = [\"Adventure\", \"Romance\", \"Mystery\", \"Sci-Fi\", \"Fantasy\"]\n",
    "    return rd.choice(themes)\n"
   ]
  },
  {
   "cell_type": "markdown",
   "metadata": {},
   "source": [
    "### Load API keys from configuration file"
   ]
  },
  {
   "cell_type": "code",
   "execution_count": 3,
   "metadata": {},
   "outputs": [],
   "source": [
    "config = configparser.ConfigParser()\n",
    "config.read('../config.ini')\n",
    "groq_config = config['groq']\n",
    "cohere_config = config['cohere']"
   ]
  },
  {
   "cell_type": "markdown",
   "metadata": {},
   "source": [
    "### configure API keys"
   ]
  },
  {
   "cell_type": "code",
   "execution_count": 4,
   "metadata": {},
   "outputs": [],
   "source": [
    "config = configparser.ConfigParser()\n",
    "config.read('../config.ini')\n",
    "groq = config['groq']\n",
    "cohere = config['cohere']\n",
    "\n",
    "# setting up the enviorment variables\n",
    "os.environ['GROQ_API_KEY'] = groq.get('GROQ_API_KEY')\n",
    "os.environ['COHERE_API_KEY'] = cohere.get('COHERE_API_KEY')\n",
    "\n",
    "# models init\n",
    "# Initialize models\n",
    "model_groq = ChatGroq(model=\"llama3-8b-8192\")\n",
    "model_cohere = ChatCohere(model=\"command-r-plus\")"
   ]
  },
  {
   "cell_type": "markdown",
   "metadata": {},
   "source": [
    "### store name of actor ,location,theme"
   ]
  },
  {
   "cell_type": "code",
   "execution_count": 7,
   "metadata": {},
   "outputs": [
    {
     "name": "stdout",
     "output_type": "stream",
     "text": [
      "Ajay Devgn Varanasi Romance\n"
     ]
    }
   ],
   "source": [
    "actor=actor_picker()\n",
    "location=location_picker()\n",
    "theme=theme_picker()\n",
    "\n",
    "print(actor,location,theme)"
   ]
  },
  {
   "cell_type": "markdown",
   "metadata": {},
   "source": [
    "### Print the detailed story output from the model. (Raw)"
   ]
  },
  {
   "cell_type": "code",
   "execution_count": 8,
   "metadata": {},
   "outputs": [
    {
     "name": "stdout",
     "output_type": "stream",
     "text": [
      "Selected elements:\n",
      "actor:Ajay Devgn\n",
      "location:Varanasi\n",
      "theme:Romance\n",
      "Story by cohere: content='Title: \"Varanasi Nights\" \\n\\nAjay Devgn, a renowned Bollywood actor, finds himself in the ancient city of Varanasi, away from the glitz and glamour of Mumbai. He\\'s in town to shoot for his upcoming movie, but little does he know that this trip will change his life forever. \\n\\n\\nAs Ajay walks along the ghats of the sacred Ganges River, he notices a beautiful young woman, Maya (played by an upcoming actress). She\\'s a local artist, selling her paintings to tourists and pilgrims alike. There\\'s something mysterious and captivating about her, and Ajay finds himself drawn to her. \\n\\n\\nDay after day, Ajay returns to the ghats, not only to practice his lines but also to catch a glimpse of Maya. He learns that she\\'s a free-spirited soul, passionate about her art and the rich culture of Varanasi. Her knowledge of the city\\'s hidden gems and ancient tales fascinates Ajay. \\n\\n\\nOne evening, under the soft glow of lanterns, Ajay gathers the courage to approach Maya. He introduces himself, and they strike up a conversation. As they talk, Ajay realizes that Maya is unlike anyone he\\'s ever met. She\\'s intelligent, witty, and possesses a deep understanding of life beyond her years. \\n\\n\\nOver the next few days, Ajay and Maya spend time together, exploring the city\\'s winding alleys, ancient temples, and serene riverbanks. They share stories of their lives, dreams, and passions. Ajay discovers a new side of himself - one that\\'s more relaxed, content, and in touch with his emotions. Maya, on the other hand, finds Ajay to be a refreshing change from the men she\\'s known - sincere, down-to-earth, and genuinely interested in her world. \\n\\n\\nAs their romance blossoms, Ajay and Maya create unforgettable memories - from sharing a cup of hot kulhad chai at a local tea stall to witnessing the mesmerizing Ganga Aarti together. They find solace and inspiration in each other\\'s company, and their love story becomes intertwined with the very fabric of Varanasi. \\n\\n\\nHowever, as the shooting for Ajay\\'s movie comes to an end, he faces a difficult decision. Does he return to his busy life in Mumbai, or does he follow his heart and stay with Maya in Varanasi? \\n\\n\\n\"Varanasi Nights\" is a tale of unexpected love, self-discovery, and the magic that can unfold in one of India\\'s most enchanting cities. It showcases the transformative power of romance and how it can lead us to unexpected paths, reminding us that love knows no boundaries, not even those of fame and fortune.' additional_kwargs={'documents': None, 'citations': None, 'search_results': None, 'search_queries': None, 'is_search_required': None, 'generation_id': '236362ba-8e36-4da7-8cb5-13a42fca89b7', 'token_count': {'input_tokens': 237.0, 'output_tokens': 531.0}} response_metadata={'documents': None, 'citations': None, 'search_results': None, 'search_queries': None, 'is_search_required': None, 'generation_id': '236362ba-8e36-4da7-8cb5-13a42fca89b7', 'token_count': {'input_tokens': 237.0, 'output_tokens': 531.0}} id='run-c8880ae3-8d80-48cb-a810-ad364e66fcfa-0' usage_metadata={'input_tokens': 237, 'output_tokens': 531, 'total_tokens': 768}\n",
      "story by groq:content='What a great combination! Here\\'s a romantic story featuring Ajay Devgn and set in the city of Varanasi:\\n\\nTitle: \"The Ganges of Memories\"\\n\\nAjay Devgn plays the role of Rohan, a successful businessman who has lost his way in life after the passing of his wife. He has been living in Varanasi, trying to find solace in the spiritual atmosphere of the city.\\n\\nOne day, while taking a stroll along the Ganges River, Rohan meets a free-spirited and beautiful teacher, Nalini (played by a talented actress like Alia Bhatt or Deepika Padukone), who is on a solo trip to explore the city\\'s cultural heritage. Nalini is an art enthusiast, and her passion for Indian classical music and dance is evident in her vibrant personality.\\n\\nAs Rohan and Nalini spend more time together, they discover a deep connection that transcends their surface-level differences. Rohan is drawn to Nalini\\'s carefree spirit and her ability to find beauty in the mundane, while Nalini is captivated by Rohan\\'s kind heart and his struggles to come to terms with his past.\\n\\nAs they explore the city together, they stumble upon hidden gems and secrets of Varanasi, from the ancient temples to the bustling ghats. With each passing day, their bond grows stronger, and they find themselves lost in conversations about life, love, and everything in between.\\n\\nHowever, their budding romance is tested when Rohan\\'s past comes knocking, threatening to tear them apart. His late wife\\'s family, who had been against their marriage, returns to Varanasi, seeking closure and reconciliation. Rohan is forced to confront his emotions and make a choice between his love for Nalini and his loyalty to his deceased wife\\'s memory.\\n\\nWill Rohan and Nalini\\'s love prevail, or will the weight of his past tear them apart? Can they find a way to heal each other\\'s wounds and create new memories together?\\n\\n\"The Ganges of Memories\" is a poignant and romantic tale that explores the power of love, loss, and redemption in the eternal city of Varanasi.' additional_kwargs={} response_metadata={'token_usage': {'completion_tokens': 441, 'prompt_tokens': 54, 'total_tokens': 495, 'completion_time': 0.3675, 'prompt_time': 0.009613612, 'queue_time': 0.006962896999999999, 'total_time': 0.377113612}, 'model_name': 'llama3-8b-8192', 'system_fingerprint': 'fp_6a6771ae9c', 'finish_reason': 'stop', 'logprobs': None} id='run-208ea4e3-9670-4b1a-926d-506ce4aba3b9-0' usage_metadata={'input_tokens': 54, 'output_tokens': 441, 'total_tokens': 495}\n"
     ]
    }
   ],
   "source": [
    "\n",
    "messages = [\n",
    "    SystemMessage(content='You are story maker and you generate new stories on the basis of theme,story and actors '),\n",
    "    HumanMessage(content=f'The actor name is {actor} and location is {location} generate a story on theme {theme}')\n",
    "]\n",
    "print(f\"Selected elements:\\nactor:{actor}\\nlocation:{location}\\ntheme:{theme}\")\n",
    "print(f\"Story by cohere: {model_cohere.invoke(messages)}\")\n",
    "print(f\"story by groq:{model_groq.invoke(messages)}\")"
   ]
  },
  {
   "cell_type": "markdown",
   "metadata": {},
   "source": [
    "### Create in memory session history"
   ]
  },
  {
   "cell_type": "code",
   "execution_count": 9,
   "metadata": {},
   "outputs": [],
   "source": [
    "# Create In-Memory Session Store\n",
    "store = {}\n",
    "\n",
    "def get_session_history(session_id: str) -> BaseChatMessageHistory:\n",
    "    if session_id not in store:\n",
    "        store[session_id] = InMemoryChatMessageHistory()\n",
    "    return store[session_id]\n",
    "\n",
    "# Configuration for session\n",
    "config = {'configurable': {\"session_id\": \"ses1\"}}\n"
   ]
  },
  {
   "cell_type": "markdown",
   "metadata": {},
   "source": [
    "### Function to generate and print a story"
   ]
  },
  {
   "cell_type": "code",
   "execution_count": 10,
   "metadata": {},
   "outputs": [],
   "source": [
    "def generate_story(model, actor, location, theme):\n",
    "    messages = [\n",
    "        SystemMessage(content=\"You are a story maker, and you generate new stories based on theme, location, and actors.\"),\n",
    "        HumanMessage(content=f\"The actor name is {actor} and location is {location}. Generate a story on theme {theme}.\")\n",
    "    ]\n",
    "    with_history = RunnableWithMessageHistory(model, get_session_history)\n",
    "    response = with_history.invoke(messages, config=config)\n",
    "    return response.content"
   ]
  },
  {
   "cell_type": "markdown",
   "metadata": {},
   "source": [
    "### Story using model cohere"
   ]
  },
  {
   "cell_type": "code",
   "execution_count": 11,
   "metadata": {},
   "outputs": [
    {
     "name": "stdout",
     "output_type": "stream",
     "text": [
      "Selected elements:\n",
      "Actor: Ajay Devgn\n",
      "Location: Varanasi\n",
      "Theme: Romance\n",
      "\n",
      "Story from Cohere Model:\n",
      "Ajay Devgn, a renowned Bollywood actor, found himself in the ancient city of Varanasi, on the banks of the sacred Ganges. He had come to this spiritual city to film his latest movie, a romantic tale set against the vibrant backdrop of India's cultural heritage. \n",
      "\n",
      "As Ajay walked through the narrow lanes of Varanasi, he was captivated by its mystical charm. The smell of incense filled the air, and the sound of devotional songs echoed from the numerous temples. It was in this atmospheric setting that he first laid eyes on her—Meera. \n",
      "\n",
      "Meera was a local girl, a beautiful and enigmatic young woman with deep, mysterious eyes and a smile that could light up the darkest alleyways. She was a devotee of Goddess Saraswati, the Hindu deity of knowledge, music, and the arts, and she spent her days singing devotional songs and playing the veena at the temples. \n",
      "\n",
      "Ajay was immediately drawn to Meera's ethereal beauty and her soulful voice. As the filming progressed, he found himself seeking out her company during breaks, eager to learn more about her and the rich cultural traditions she represented. They would often sit by the ghats, watching the sunset over the holy river, and share stories about their lives and dreams. \n",
      "\n",
      "Meera opened up to Ajay about her passion for music and her desire to use it as a force for good in the world. She believed that music had the power to heal and bring people together, and she dreamed of one day performing on a larger stage to spread her message of peace and harmony. \n",
      "\n",
      "Ajay, touched by her ideals and captivated by her talent, found himself falling deeply in love. He saw in Meera a reflection of the beauty and soul of India itself—a country rich in tradition, culture, and spirituality. He wanted to help her realize her dreams and show the world the magic that he had discovered in this extraordinary woman. \n",
      "\n",
      "As the filming neared its end, Ajay made a promise to Meera. He vowed to use his influence in the film industry to launch her musical career, determined to give her a platform to share her gift with the world. And so, with the sacred Ganges as their witness, a romance blossomed, bridging the gap between the glamorous world of Bollywood and the spiritual heart of India. \n",
      "\n",
      "Their love story, set against the enchanting backdrop of Varanasi, became the stuff of legends—a testament to the power of art, culture, and the enduring magic of romance in one of the world's most enchanting cities. \n",
      "\n",
      "And so, the tale of Ajay Devgn and Meera, a romance born in Varanasi, went on to inspire countless others, proving that sometimes, in the most unexpected places, love can truly conquer all.\n"
     ]
    }
   ],
   "source": [
    "# Generate stories using both models\n",
    "print(f\"Selected elements:\\nActor: {actor}\\nLocation: {location}\\nTheme: {theme}\\n\")\n",
    "\n",
    "# Story from Cohere model\n",
    "print(\"Story from Cohere Model:\")\n",
    "print(generate_story(model_cohere, actor, location, theme))\n",
    "\n",
    "\n"
   ]
  },
  {
   "cell_type": "code",
   "execution_count": 12,
   "metadata": {},
   "outputs": [
    {
     "name": "stdout",
     "output_type": "stream",
     "text": [
      "Selected elements:\n",
      "Actor: Ajay Devgn\n",
      "Location: Varanasi\n",
      "Theme: Romance\n",
      "\n",
      "\n",
      "Story from Groq Model:\n",
      "\"The Ganges of Memories\"\n",
      "\n",
      "Ajay Devgn, a successful Bollywood actor, had always been drawn to the spiritual and cultural richness of Varanasi. He had come to this city to shoot his latest film, but little did he know that his life was about to take a dramatic turn. As he walked along the ghats of the Ganges, he stumbled upon a small, quaint bookstore, tucked away in a narrow alley. The store was called \" Memories of the Ganges\" and its owner, a beautiful and enigmatic woman named Meera, caught his eye.\n",
      "\n",
      "Meera was a book lover and a devoted daughter of Varanasi. She had inherited the bookstore from her father, a renowned historian and writer, and had spent her life preserving the city's ancient stories and legends. Ajay was fascinated by her intelligence, passion, and beauty, and soon found himself returning to the bookstore every day, hoping to catch a glimpse of her.\n",
      "\n",
      "As they spent more time together, discussing books, history, and the city's secrets, Ajay and Meera realized that they shared a deep connection. They would take long walks along the ghats, watching the sun set over the Ganges, and share stories about their own lives and dreams. Meera, who had given up her own dreams of becoming a writer due to family pressures, found solace in Ajay's words of encouragement and support.\n",
      "\n",
      "As the days turned into weeks, their friendship blossomed into something more. They would steal away to the rooftop of the bookstore, where Meera would play the veena, and Ajay would sing along, their voices blending in perfect harmony. The Ganges, which had witnessed the joys and sorrows of countless couples, seemed to whisper its blessings to them.\n",
      "\n",
      "But their love was not without its challenges. Meera's family, who had always wanted her to marry a local man, were opposed to her relationship with Ajay, a Bollywood star from the city. Ajay, too, had his own demons to fight, for he had lost his first love in a tragic accident and was hesitant to open his heart again.\n",
      "\n",
      "As the filming neared its end, Ajay knew that he had to make a choice. He couldn't bear the thought of leaving Meera behind, but he also couldn't ignore the doubts and fears that lingered within him. Meera, sensing his turmoil, took him to the Ganges at midnight, where they stood together, gazing out at the river. She told him that love was the greatest story of all, and that it was up to him to write their own chapter.\n",
      "\n",
      "Ajay realized that he couldn't imagine a life without Meera by his side. He took her hand, and they stood together, the Ganges flowing beneath them, as they sealed their love with a promise to face whatever challenges came their way. The city, which had seen the rise and fall of countless empires, welcomed their love with open arms, and the Ganges, which had witnessed the joys and sorrows of countless couples, smiled with approval.\n",
      "\n",
      "And so, the tale of Ajay Devgn and Meera, a romance born in the heart of Varanasi, became a legend, a testament to the power of love, passion, and the enduring magic of the Ganges.\n"
     ]
    }
   ],
   "source": [
    "print(f\"Selected elements:\\nActor: {actor}\\nLocation: {location}\\nTheme: {theme}\\n\")\n",
    "# Story from Groq model\n",
    "print(\"\\nStory from Groq Model:\")\n",
    "print(generate_story(model_groq, actor, location, theme))"
   ]
  },
  {
   "cell_type": "markdown",
   "metadata": {},
   "source": [
    "### Taking input form the user"
   ]
  },
  {
   "cell_type": "code",
   "execution_count": 15,
   "metadata": {},
   "outputs": [
    {
     "name": "stdout",
     "output_type": "stream",
     "text": [
      "add a dog in story\n"
     ]
    }
   ],
   "source": [
    "# User input to customize the story\n",
    "user_input = input(\"\\nWhat would you like to customize in this story? \")\n",
    "print(user_input)"
   ]
  },
  {
   "cell_type": "markdown",
   "metadata": {},
   "source": [
    "### Story after user input cohere model"
   ]
  },
  {
   "cell_type": "code",
   "execution_count": 14,
   "metadata": {},
   "outputs": [
    {
     "name": "stdout",
     "output_type": "stream",
     "text": [
      "\n",
      "Customized Story from Cohere Model:\n",
      "\"The Ganges, a Love Story\" \n",
      "\n",
      "Ajay Devgn, the famous Bollywood actor, found himself drawn to the ancient city of Varanasi, a place steeped in spiritual tradition and cultural allure. As he wandered through the labyrinth of lanes, he chanced upon a quaint bookstore nestled in the heart of the old town, named \"Memories of the Ganges\". Here, he encountered the captivating Meera, an avid book lover and devoted caretaker of the city's historical tales. \n",
      "\n",
      "Meera, with her deep-rooted connection to Varanasi, had a special bond with the Ganges, considering it a sacred symbol of life and renewal. Each day, she would walk along the ghats, accompanied by her faithful dog, Ganga, a playful golden retriever with a love for swimming in the holy river. \n",
      "\n",
      "Ajay found himself irresistibly drawn to Meera and her enchanting world. He spent his free moments from filming in the bookstore, delving into conversations about literature and the city's rich history. As they spoke, Ganga would lie at their feet, content and relaxed, as if sensing the growing connection between the two. \n",
      "\n",
      "Their friendship blossomed, and soon, Ajay and Meera were inseparable. They explored the hidden gems of Varanasi, wandering through ancient temples and sharing stories of their dreams and pasts. Ganga was always by their side, a loyal companion, adding a playful element to their romantic interludes. \n",
      "\n",
      "One afternoon, as they sat by the river, Meera shared with Ajay her deepest desire—to write a book about the Ganges, weaving together the stories and legends she had gathered over the years. She wanted to honor the river that had given so much to her and her city. Ajay, inspired by her passion, promised to help her make her dream a reality. \n",
      "\n",
      "As their love deepened, Ajay faced a dilemma. His work demanded that he return to the bustling city of Mumbai, while Meera's heart belonged firmly in Varanasi. Determined to find a way to be together, they devised a plan. Meera and Ganga would accompany Ajay back to Mumbai, where she could continue her writing and explore new opportunities. \n",
      "\n",
      "And so, with Ganga happily bounding alongside them, Ajay and Meera embarked on a new chapter of their love story. The city of Mumbai welcomed them with open arms, and soon, Meera's book, \"The Ganges, a Love Story\", became a celebrated success, bringing the magic of Varanasi to readers across the country. \n",
      "\n",
      "Their romance, blessed by the sacred Ganges and the loyal companionship of Ganga, became a symbol of the enduring power of love, bridging the gap between the spiritual and the modern, the traditional and the contemporary. \n",
      "\n",
      "Thus, the tale of Ajay Devgn, Meera, and their faithful companion, Ganga, became a beloved legend in the heart of India, a testament to the enduring magic that can be found on the banks of the sacred Ganges.\n"
     ]
    }
   ],
   "source": [
    "\n",
    "\n",
    "# Customize story with user's input using model_cohere\n",
    "print(\"\\nCustomized Story from Cohere Model:\")\n",
    "with_history = RunnableWithMessageHistory(model_cohere, get_session_history)\n",
    "custom_response = with_history.invoke([HumanMessage(content=user_input)], config=config)\n",
    "print(custom_response.content)\n",
    "\n"
   ]
  },
  {
   "cell_type": "markdown",
   "metadata": {},
   "source": [
    "### story after user_input using model groq"
   ]
  },
  {
   "cell_type": "code",
   "execution_count": 16,
   "metadata": {},
   "outputs": [
    {
     "name": "stdout",
     "output_type": "stream",
     "text": [
      "\n",
      "Customized Story from Groq Model:\n",
      "\"The Ganges, a Love Story\" \n",
      "\n",
      "Ajay Devgn, the famous Bollywood actor, found himself drawn to the ancient city of Varanasi, a place steeped in spiritual tradition and cultural allure. As he wandered through the labyrinth of lanes, he chanced upon a quaint bookstore nestled in the heart of the old town, named \"Memories of the Ganges\". Here, he encountered the captivating Meera, an avid book lover and devoted caretaker of the city's historical tales. \n",
      "\n",
      "Meera, with her deep-rooted connection to Varanasi, had a special bond with the Ganges, considering it a sacred symbol of life and renewal. Each day, she would walk along the ghats, accompanied by her faithful dog, Ganga, a playful golden retriever with a love for swimming in the holy river. \n",
      "\n",
      "Ajay found himself irresistibly drawn to Meera and her enchanting world. He spent his free moments from filming in the bookstore, delving into conversations about literature and the city's rich history. As they spoke, Ganga would lie at their feet, content and relaxed, as if sensing the growing connection between the two. \n",
      "\n",
      "Their friendship blossomed, and soon, Ajay and Meera were inseparable. They explored the hidden gems of Varanasi, wandering through ancient temples and sharing stories of their dreams and pasts. Ganga was always by their side, a loyal companion, adding a playful element to their romantic interludes. \n",
      "\n",
      "One afternoon, as they sat by the river, Meera shared with Ajay her deepest desire—to write a book about the Ganges, weaving together the stories and legends she had gathered over the years. She wanted to honor the river that had given so much to her and her city. Ajay, inspired by her passion, promised to help her make her dream a reality. \n",
      "\n",
      "As their love deepened, Ajay faced a dilemma. His work demanded that he return to the bustling city of Mumbai, while Meera's heart belonged firmly in Varanasi. Determined to find a way to be together, they devised a plan. Meera and Ganga would accompany Ajay back to Mumbai, where she could continue her writing and explore new opportunities. \n",
      "\n",
      "And so, with Ganga happily bounding alongside them, Ajay and Meera embarked on a new chapter of their love story. The city of Mumbai welcomed them with open arms, and soon, Meera's book, \"The Ganges, a Love Story\", became a celebrated success, bringing the magic of Varanasi to readers across the country. \n",
      "\n",
      "Their romance, blessed by the sacred Ganges and the loyal companionship of Ganga, became a symbol of the enduring power of love, bridging the gap between the spiritual and the modern, the traditional and the contemporary. \n",
      "\n",
      "Thus, the tale of Ajay Devgn, Meera, and their faithful companion, Ganga, became a beloved legend in the heart of India, a testament to the enduring magic that can be found on the banks of the sacred Ganges.\n"
     ]
    }
   ],
   "source": [
    "# Customize story with user's input using model_groq\n",
    "print(\"\\nCustomized Story from Groq Model:\")\n",
    "with_history = RunnableWithMessageHistory(model_groq, get_session_history)\n",
    "custom_response = with_history.invoke([HumanMessage(content=user_input)], config=config)\n",
    "print(custom_response.content)"
   ]
  }
 ],
 "metadata": {
  "kernelspec": {
   "display_name": "lamavenv",
   "language": "python",
   "name": "python3"
  },
  "language_info": {
   "codemirror_mode": {
    "name": "ipython",
    "version": 3
   },
   "file_extension": ".py",
   "mimetype": "text/x-python",
   "name": "python",
   "nbconvert_exporter": "python",
   "pygments_lexer": "ipython3",
   "version": "3.12.6"
  }
 },
 "nbformat": 4,
 "nbformat_minor": 2
}
